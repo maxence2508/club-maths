{
 "cells": [
  {
   "cell_type": "markdown",
   "id": "dd3230ac",
   "metadata": {},
   "source": [
    "\\textbf{Exercice 2}"
   ]
  },
  {
   "cell_type": "markdown",
   "id": "ba4e6498",
   "metadata": {},
   "source": [
    "\\textbf{Q1}\n",
    "\n",
    "\\leftskip=0cm\n",
    "$SL_n(k)$ est un sous-groupe de $GL_n(k)$ (vérifications élémentaires).\n",
    "Pour $A \\in GL_n(k)$ et $B \\in SL_n(k)$, $\\operatorname{det}(ABA^{-1})=\\operatorname{det}(B)=1$ donc $ABA^{-1} \\in SL_n(k)$.\n",
    "Donc $SL_n(K)\\lhd GL_n(k)$.\n",
    "L'application \n",
    "$$\\begin{array}{ccccc}\n",
    "\\phi & : & GL_n(k)/SL_n(k) & \\to & k^* \\\\\n",
    " & & \\bar{M} & \\mapsto & \\operatorname{det}(M) \\\\\n",
    "\\end{array}$$\n",
    "est bien définie et est un isomorphisme de groupes.\n",
    "\n",
    "\\textbf{Preuve} :\n",
    "\n",
    "\\leftskip=1cm\n",
    "\n",
    "Il est clair qu'elle est bien définie (image indépendante du choix du représentant et bien à valeur dans $k^*$) et que c'est un morphisme de groupes. \n",
    "\n",
    "Si $\\phi(\\bar{M})=\\operatorname{det}(M)=1$, alors $M \\in SL_n(k)$ et $\\bar{M} = SL_n(k)$, donc $\\phi$ est injective. \n",
    "Pour $x \\in k^*$, on pose $M=D(x, 1_k, ..., 1_k) \\in GL_n(k)$, de sorte que $\\phi(\\bar{M})=\\operatorname{det}(M)=x$, ce qui montre la surjectivité de $\\phi$.\n",
    "\n",
    "\\leftskip=0cm\n",
    "\n",
    "Ainsi $GL_n(k)/SL_n(k) \\cong k^*$\n",
    "\n",
    "\\textbf{Q2} Soit $\\tau$ une transposition de $H$ (il en existe une par hypothèse). On note $\\tau=(i \\ j)$. On a :\n",
    "$$\\forall \\sigma \\in S_n, \\ \\sigma \\tau \\sigma^{-1} = (\\sigma(i) \\ \\sigma(j))$$\n",
    "Cela prouve que $H$ contient toutes les transpositions de $S_n$. Comme les transpositions engendrent $S_n$, on a $H=S_n$"
   ]
  },
  {
   "cell_type": "markdown",
   "id": "c05c3036",
   "metadata": {},
   "source": [
    "\\textbf{Exercice 3 - Centre}"
   ]
  },
  {
   "cell_type": "markdown",
   "id": "233e197f",
   "metadata": {},
   "source": [
    "\\textbf{Q1}\n",
    "Les $f_g$ ($g \\in G$) sont des automorphismes.\n",
    "\n",
    "\\textbf{Morphismes} : $\\forall g \\in G$, $\\forall x_1, x_2 \\in G$,\n",
    "$$f_g(x_1 x_2) = g x_1 x_2 g^{-1} = (g x_1 g^{-1}) (g x_2 g^{-1}) = f_g (x_1) f_g(x_2)$$\n",
    "\n",
    "\\textbf{Bijectifs} : Les morphismes $f_g$ admettent pour réciproque :\n",
    "$$\\begin{array}{ccccc}\n",
    "\\phi & : & G & \\to & G \\\\\n",
    " & & x & \\mapsto & g^{-1} x g \\\\\n",
    "\\end{array}$$\n",
    "\n",
    "Ainsi $\\operatorname{Int}(G) \\subset \\operatorname{Aut}(G)$.\n",
    "\n",
    "$\\operatorname{Int}(G)$ est un sous-groupe de $\\operatorname{Aut}(G)$.\n",
    "\n",
    "$\\operatorname{id}_G = f_{e_g}$ donc $\\operatorname{id}_G \\in \\operatorname{Int}(G)$\n",
    "\n",
    "Si $g_1, g_2 \\in G$, pour $x \\in G$,\n",
    "$$f_{g_1} \\circ f_{g_2} (x) = f_{g_1}(g_2 x g_2^{-1}) = g_1 g_2 x g_2^{-1} g_1^{-1}= (g_1 g_2)x(g_1 g_2)^{-1} = f_{g_1 g_2}(x)$$\n",
    "\n",
    "Donc $f_{g_1} \\circ f_{g_2} \\in \\operatorname{Int}(G)$.\n",
    "\n",
    "Si $g \\in G$, $f_g^{-1} = f_{g^{-1}}$ donc $f_g^{-1} \\in \\operatorname{Int}(G)$.\n",
    "\n",
    "$Z(G)$ est un sous-groupe normal de $G$.\n",
    "\n",
    "$\\textbf{Preuve}$ :\n",
    "\n",
    "\\leftskip=1cm\n",
    "\n",
    "C'est bien un sous-groupe de $G$ (vérifications élémentaires) et il est distingué car pour $g \\in G$ et $h \\in Z(G)$, pour tout $x \\in G$, $ghg^{-1}x=gg^{-1}hx=hx$ et $xghg^{-1}=xhgg^{-1} = xh = hx$. Donc $ghg^{-1} \\in Z(G)$, ce qui conclut.\n",
    "\n",
    "\n",
    "\\leftskip=0cm\n",
    "\n",
    "\\textbf{Q2} On note $(\\bar{g_i})_{i \\in I}$ les classes d'équivalence distinctes $(g_i \\in G)$. On définit :\n",
    "$$\\begin{array}{ccccc}\n",
    "\\phi & : & G/Z(G) & \\to & \\operatorname{Int}(G) \\\\\n",
    " & & \\bar{g_i} & \\mapsto & f_{g_i} \\\\\n",
    "\\end{array}$$\n",
    "\n",
    "$\\phi$ est bien définie. En effet, pour $i \\in I$ et $z \\in Z(G)$, \n",
    "$$\\forall x \\in G, \\ f_{g_i z}(x) = (g_i z)x(g_i z)^{-1} = g_i x g_i^{-1}$$\n",
    "(image indépendante du représentant choisi)\n",
    "\n",
    "Pour $i,j \\in I$, \n",
    "$$\\phi(\\bar{g_i} \\bar{g_j})=\\phi(\\bar{g_i g_j}) = f_{g_i g_j}= f_{g_i}\\circ f_{g_j} = \\phi(\\bar{g_i}) \\circ \\phi(\\bar{g_j})$$\n",
    "Donc $\\phi$ est un morphisme.\n",
    "\n",
    "Si $\\bar{g_i}$ ($i \\in [1,k]$) vérifie $\\phi(\\bar{g_i}) = \\operatorname{id}_G$ ie :\n",
    "$$\\forall x \\in G, \\ g_i x = x g_i$$\n",
    "Donc $g_i = Z(G)$ et $\\bar{g_i}=Z(G)$. $\\phi$ est donc injective.\n",
    "\n",
    "Soit $f_g \\in \\operatorname{Int}(G)$ (avec $g \\in G$), on a alors $\\phi(\\bar{g})=f_g$. Donc $\\phi$ est surjective.\n",
    "\n",
    "\\textbf{Bilan} : $\\phi$ est un isomorphisme donc\n",
    "$$G/Z(G) \\cong \\operatorname{Int}(G)$$\n",
    "\\textbf{Q3} Si $G/Z(G)$ est est monogène. $G/Z(G)$ s'écrit $G/Z(G) = <gZ(G)>$. Soient $g_1, g_2 \\in G$. Alors $g_1 = g^{k_1}z_1$ et $g_2 = g^{k_2}z_2$ avec $z_1, z_2 \\in Z(G)$.\n",
    "\n",
    "Ainsi :\n",
    "$$g_1 g_2 = g^{k_1}z_1 g^{k_2}z_2=g^{k_1}g^{k_2}z_1 z_2 = g^{k_2}g^{k_1}z_2 z_1 = g^{k_2}z_2g^{k_1}z_1 = g_2 g_1$$\n",
    "Donc $G$ est abélien."
   ]
  },
  {
   "cell_type": "markdown",
   "id": "ac51637d",
   "metadata": {},
   "source": [
    "\\textbf{Exercice 4 - Décomposition directe}"
   ]
  },
  {
   "cell_type": "markdown",
   "id": "01a843de",
   "metadata": {},
   "source": [
    "On définit :\n",
    "$$\\begin{array}{ccccc}\n",
    "\\phi & : & H \\times K & \\to & G \\\\\n",
    " & & (h, k) & \\mapsto & hk \\\\\n",
    "\\end{array}$$\n",
    "$\\phi$ est un morphisme de groupes.\n",
    "\n",
    "\\textbf{Preuve} : \n",
    "\n",
    "\\leftskip=1cm\n",
    "\n",
    "On montre d'abord que pour $(h, k) \\in H \\times K$, $hk=kh$. Comme $H \\lhd G$, $kh^{-1}k^{-1} \\in H$ puis $hkh^{-1}k^{-1} \\in H$. De même, comme $K \\lhd G$, $hkh^{-1} \\in K$ puis $hkh^{-1}k^{-1} \\in K$. Ainsi, $hkh^{-1}k^{-1}\\in H \\cap K = \\{e_G\\}$. Donc $hk=kh$.\n",
    "\n",
    "Ainsi, pour $(h_1,k_1), (h_2, k_2) \\in H \\times K$, on a :\n",
    "$$\\phi(h_1 h_2, k_1 k_2) = h_1 h_2 k_1 k_2 = h_1 k_1 h_2 k_2 = \\phi(h_1, k_1) \\phi(h_2, k_2)$$\n",
    "$\\phi$ est donc un morphisme de groupes.\n",
    "\n",
    "\\leftskip=0cm\n",
    "\n",
    "Il est surjectif car $HK=G$.\n",
    "\n",
    "Si $(h,k)\\in H\\times K$ vérifie $\\phi(h,k) = hk = e_G$, alors $h=k^{-1}\\in H\\cap K=\\{e_G\\}$ donc $h=k=e_G$. Cela montre l'injectivité de $\\phi$.\n",
    "\n",
    "$\\phi$ est donc un isomorphisme : $G \\cong H \\times K$"
   ]
  },
  {
   "cell_type": "markdown",
   "id": "10ac48ae",
   "metadata": {},
   "source": [
    "\\textbf{Exercice 5 - Groupe dérivé}"
   ]
  },
  {
   "cell_type": "markdown",
   "id": "9d024d53",
   "metadata": {},
   "source": [
    "\\textbf{Q1}\n",
    "Pour $g \\in G$, $z=[x,y] \\in D(G)$ (avec $x,y \\in G$), on remarque que :\n",
    "$$gzg^{-1}=[gxg^{-1}, gyg^{-1}] \\in D(G)$$\n",
    "\n",
    "Pour $z \\in D(G)$, $z$ s'écrit sous la forme $z=z_1 ... z_k$ où les $z_i$ sont des commutateurs. Alors pour tout $g \\in G$, par ce qui précède :\n",
    "$$gzg^{-1} = gz_1 ... z_k g^{-1} = (gz_1 g^{-1}) ... (gz_k g^{-1}) \\in D(G)$$\n",
    "\n",
    "On a donc montré que $D(G) \\lhd G$.\n",
    "\n",
    "\\textbf{Q2}\n",
    "\n",
    "\\textbf{Sens indirect} : Si $D(G) \\subset H$. Alors $[g_1^{-1}, g_2^{-1}] \\in H$ ie $g_1^{-1}g_2^{-1}g_1 g_2 \\in H$, puis $g_1 g_2 \\in g_2 g_1 H$. Donc $(g_1 g_2) H \\subset (g_2 g_1)H$.\n",
    "\n",
    "Par symétrie des rôles entre $g_1$ et $g_2$, l'inclusion réciproque est vraie et on a $(g_1 g_2) H = (g_2 g_1) H$. Ainsi $G/H$ est abélien.\n",
    "\n",
    "\n",
    "\\textbf{Sens indirect} : Si $G/H$ est abélien. Soient $x,y \\in G$. On veut montrer que $[x,y] \\in H$. On écrit $x=g_1 h_1$ et $y=g_2 h_2$ avec $g_1, g_2 \\in G$ et $h_1, h_2 \\in H$. Alors :\n",
    "$$[x,y] = g_1 h_1 g_2 h_2 (g_2 h_2 g_1 h_1)^{-1}$$\n",
    "Or, comme $G/H$ est abélien, il existe $\\tilde{h}, \\tilde{\\tilde{h}} \\in H$ tels que $g_1 h_1 g_2 h_2 = g_2 g_1 h_1 \\tilde{h}$ et $g_2 h_2 g_1 h_1 = g_1 g_2 h_2 \\tilde{\\tilde{h}}$. De sorte que :\n",
    "$$[x,y] = g_2 g_1 h_1 \\tilde{h} \\tilde{\\tilde{h}}^{-1} h_2^{-1} g_2^{-1} g_1^{-1}$$\n",
    "Comme $G/H$ est abélien, il existe $h \\in H$ tel que $g_1 g_2 = g_2 g_1 h$. Ainsi, par ce qui précède et puisque $H \\rhd G$, on a :\n",
    "$$[x,y] = (g_1 g_2) (h^{-1} h_1 \\tilde{h} \\tilde{\\tilde{h}}^{-1} h_2^{-1}) (g_1 g_2)^{-1} \\in H$$\n",
    "\n",
    "Donc $D(G) \\subset H$."
   ]
  },
  {
   "cell_type": "markdown",
   "id": "33ed4bb9",
   "metadata": {},
   "source": [
    "\\textbf{Exercice 6 -  Groupe résoluble, Galois}"
   ]
  },
  {
   "cell_type": "markdown",
   "id": "912592ed",
   "metadata": {},
   "source": [
    "\\textbf{Q2}\n",
    "\n",
    "\\textbf{Sens direct} \n",
    "\n",
    "Si $G$ est résoluble, il existe $n_0 \\in \\mathbb{N}^{*}$ tel que :\n",
    "$$G_0=\\{e\\} \\lhd G_1 \\lhd ... \\lhd G_{n_0} = G$$\n",
    "avec $\\forall i \\in [0, n_0-1], \\ G_{i+1}/G_i$ abélien.\n",
    "\n",
    "Par Ex5, comme $G_{i+1}/G_i$ est abélien, on a :\n",
    "$$\\forall i \\in [0, n_0-1], \\ D(G_{i+1}) \\subset G_i$$\n",
    "Une récurrence immédiate montre alors que :\n",
    "$$D^{n_0}(G) \\subset \\{e\\}$$\n",
    "Donc $D^{n_0}(G) = \\{e\\}$, ce qui conclut.\n",
    "\n",
    "\\textbf{Sens indirect}\n",
    "\n",
    "Si $(D^{n} (G))_{n \\in \\mathbb{N}}$ stationne à $\\{e\\}$. Soit $n_0$ un entier tel que $D^{n_0} (G) = \\{e\\}$. Alors :\n",
    "$$G_0=\\{e\\} \\lhd G_1 \\lhd ... \\lhd G_{n_0} = G$$\n",
    "et en vertu de Ex5, $\\forall i \\in [0, n_0 -1], \\ D^{i+1}(G)/D^i (G)$ est abélien.\n",
    "\n",
    "Donc $G$ est résoluble."
   ]
  },
  {
   "cell_type": "markdown",
   "id": "d10abdbd",
   "metadata": {},
   "source": [
    "\\textbf{Exercice 7 -  Exemples de groupes résolubles}"
   ]
  },
  {
   "cell_type": "markdown",
   "id": "822aef43",
   "metadata": {},
   "source": [
    "\\textbf{Q2} Comme $rs=sr^{-1}$, des calculs élémentaires montrent que $D(D_n)=<r^2>$. Ce dernier groupe étant abélien, $D^2 (D_n) = \\{e\\}$. Par Ex6 Q2, $D_n$ est donc résoluble.\n"
   ]
  },
  {
   "cell_type": "markdown",
   "id": "c94c0ee7",
   "metadata": {},
   "source": [
    "\\textbf{Exercice 8 -  Groupe simple}"
   ]
  },
  {
   "cell_type": "markdown",
   "id": "8ce2a070",
   "metadata": {},
   "source": [
    "\\textbf{Q1} Tout sous-groupe $H$ d'un groupe abélien $G$ est distingué. Ainsi, les groupes abéliens simples sont les groupes $G$ admettant exactement deux sous-groupes, à savoir $\\{e_G\\}$ et $G$.\n",
    "\n",
    "Or les seuls groupes $G$ non triviaux dont les seuls sous-groupes sont $\\{e_G\\}$ et $G$ sont les groupes cycliques d'ordre $p$ premier (ce sont donc les groupes isomorphes à un $\\mathbb{Z}/p\\mathbb{Z}$ avec $p$ premier).\n",
    "\n",
    "\\textbf{Preuve} : \n",
    "\n",
    "\\leftskip=1cm\n",
    "\n",
    "Sens indirect immédiat par théorème de Lagrange.\n",
    "Pour le sens direct, si $G$ est non trivial dont les seuls sous-groupes sont triviaux, avec $x \\in G$ différent de $e_G$, on a alors $<x>=G$. $G$ est donc monogène. Si par l'absurde il était infini, il serait isomorphe à $\\mathbb{Z}$, ce qui n'est pas possible car $\\mathbb{Z}$ admet des sous-groupes stricts. $G$ est donc cyclique.\n",
    " \n",
    "$G$ est en fait d'ordre premier. En effet, si par l'absurde il ne l'est pas, avec $1<d<|G|$ un diviseur de $|G|$, un lemme connu montre alors qu'il existe un élément $x \\in G$ d'ordre $d$. Ainsi le groupe $<x>$ est un sous-groupe strict de $G$, ce qui est absurde.\n",
    "\n",
    "\\leftskip=0cm\n",
    "\n",
    "\\textbf{Q2} Si $G$ et simple est résoluble, il est abélien. Il est donc isomorphe à un $\\mathbb{Z}/p\\mathbb{Z}$ avec $p$ premier par $Q1$."
   ]
  },
  {
   "cell_type": "markdown",
   "id": "8ccabbf1",
   "metadata": {},
   "source": [
    "\\textbf{Exercice 10}"
   ]
  },
  {
   "cell_type": "markdown",
   "id": "40a46a5f",
   "metadata": {},
   "source": [
    "On définit :\n",
    "$$\\begin{array}{ccccc}\n",
    "\\phi & : & H & \\to & \\operatorname{Aut}(N) \\\\\n",
    " & & h & \\mapsto & \\phi_h : n \\mapsto hnh^{-1} \\\\\n",
    "\\end{array}$$\n",
    "$\\phi$ est bien défini car $N$ est distingué dans $G$ et c'est un morphisme de groupes (vérifications élémentaires).\n",
    "\n",
    "On définit alors :\n",
    "$$\\begin{array}{ccccc}\n",
    "f & : & N \\rtimes_f H  & \\to & G \\\\\n",
    " & & (n, h) & \\mapsto & nh \\\\\n",
    "\\end{array}$$\n",
    "Des vérifications élémentaires montrent que $f$ est un morphisme de groupes. C'est en fait un isomorphisme de groupes. L'injectivité est vraie grâce à $N \\cap H = \\{e_G\\}$ et la surjectivité provient du fait que $NH=G$.\n",
    "\n",
    "Ainsi, $N \\rtimes_f H \\cong G$."
   ]
  },
  {
   "cell_type": "markdown",
   "id": "45fc8cad",
   "metadata": {},
   "source": [
    "\\textbf{Exercice 11}"
   ]
  },
  {
   "cell_type": "markdown",
   "id": "eae255a2",
   "metadata": {},
   "source": [
    "\\textbf{Q1}\n",
    "On note $C=\\{(x, y) \\in G^2 \\ | \\ xy=yx\\}$. La probabilité recherchée est $\\frac{|C|}{|G \\times G|}=\\frac{|C|}{|G|^2}$. On a :\n",
    "\\begin{align} \n",
    "   C &= \\bigsqcup_{x \\in G} \\{x\\} \\times C_x \\\\ \n",
    "   &= (\\bigsqcup_{x\\in Z(G)} \\{x\\} \\times C_x) \\bigsqcup (\\bigsqcup_{x \\notin Z(G)} \\{x\\} \\times C_x)\\\\ \n",
    "   &= (\\bigsqcup_{x\\in Z(G)} \\{x\\} \\times G) \\bigsqcup (\\bigsqcup_{x \\notin Z(G)} \\{x\\} \\times C_x)\n",
    "\\end{align}\n",
    "Puis, en cardinaux :\n",
    "\\begin{align} \n",
    "   C & = |Z(G)|.|G| + \\sum_{x \\notin Z(G)}|C_x| \\\\ \n",
    "   & = zn + \\sum_{x \\notin Z(G)}|C_x|\\\\ \n",
    "   &\\leq zn + (|G|-|Z(G)|)\\operatorname{max}_{x \\notin Z(G)}|C_x|\n",
    "\\end{align}\n",
    "Or, les $C_x$ sont des sous-groupes de $G$ (vérifications élémentaires). Pour $x \\notin Z(G)$, ce sont des sous-groupes stricts de $G$. Par théorème de Lagrange, on a donc :\n",
    "$$\\forall x \\notin Z(G), \\ |C_x| \\leq \\frac{n}{2}$$\n",
    "Puis :\n",
    "$$|C| \\leq \\frac{zn}{2} + \\frac{n^2}{2}$$\n",
    "\n",
    "\\textbf{Q2}\n",
    "Comme $G$ n'est pas abélien, via contraposée de Ex3, $G/Z(G)$ n'est pas monogène. On peut montrer que tous les groupes d'ordre $1, 2, 3$ sont cycliques. Ainsi, $|G/Z(G)| \\geq 4$, puis $z \\leq \\frac{n}{4}$\n",
    "\n",
    "\\textbf{Q3}\n",
    "Par suite :\n",
    "$$|C|\\leq \\frac{n^2}{8}+\\frac{n^2}{2} = \\frac{5 n^2}{8}$$\n",
    "Puis :\n",
    "$$\\frac{|C|}{|G|^2} \\leq \\frac{5}{8}$$\n",
    "\n",
    "\\textbf{Remarque}\n",
    "Si $G$ est abélien, la probabilité recherchée vaut $1$."
   ]
  }
 ],
 "metadata": {
  "authors": [
   {
    "name": "Maxence Caucheteux"
   }
  ],
  "kernelspec": {
   "display_name": "Python 3 (ipykernel)",
   "language": "python",
   "name": "python3"
  },
  "language_info": {
   "codemirror_mode": {
    "name": "ipython",
    "version": 3
   },
   "file_extension": ".py",
   "mimetype": "text/x-python",
   "name": "python",
   "nbconvert_exporter": "python",
   "pygments_lexer": "ipython3",
   "version": "3.12.7"
  }
 },
 "nbformat": 4,
 "nbformat_minor": 5
}
